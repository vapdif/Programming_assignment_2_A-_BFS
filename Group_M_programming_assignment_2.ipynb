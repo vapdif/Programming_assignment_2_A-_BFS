{
 "cells": [
  {
   "cell_type": "markdown",
   "metadata": {},
   "source": [
    "<center> <h3>University of Puerto Rico</h3> </center>\n",
    "<center> <h3>Mayagüez Campus</h3> </center>\n",
    "<center> <h3>Mayagüez, Puerto Rico</h3> </center>\n",
    "\n",
    "\n",
    "<center> <h3>Department of Electrical and Computer Engineering</h3> </center>\n",
    "\n",
    "\n",
    "<center> <h3>Programming assignment 2</h3> </center>\n",
    "\n",
    "\n",
    "<center> <h3>by</h3> </center>\n",
    "<center> <h3>Group M</h3> </center>\n",
    "<center> <h3>Jan A. Rivera R.</h3> </center>\n",
    "<center> <h3>Diego F. Vasquez P.</h3> </center>\n",
    "\n",
    "\n",
    "<center> <h3>For: Professor Fernando Vega Riveros</h3> </center>\n",
    "<center> <h3>Course: ICOM 5015</h3> </center>\n",
    "<center> <h3>Date: April 01, 2024</h3> </center>\n"
   ]
  },
  {
   "cell_type": "markdown",
   "metadata": {},
   "source": [
    "---\n",
    "\n",
    "### Programming assignment 2\n"
   ]
  },
  {
   "cell_type": "markdown",
   "metadata": {},
   "source": [
    "---\n",
    "1. Exercise 3.9 · AIMA Exercises (aimacode.github.io) (problem 3.7 of the Russell, S. and Norvig, P. Artificial Intelligence: A Modern Approach. 3rd Edition)\n",
    "\n",
    "Consider the problem of finding the shortest path between two points on a plane that has convex polygonal obstacles as shown in . This is an idealization of the problem that a robot has to solve to navigate in a crowded environment.\n",
    "\n",
    "1.1 Suppose the state space consists of all positions (x,y) in the plane. How many states are there? How many paths are there to the goal?\n",
    "\n"
   ]
  },
  {
   "cell_type": "markdown",
   "metadata": {},
   "source": [
    "The state space in this scenario would be theb set of all the nodes in the graph. Therefore it is infinite. This also means that the paths to get to the goal vertex would be infinite as well."
   ]
  },
  {
   "cell_type": "markdown",
   "metadata": {},
   "source": [
    "---\n",
    "1.2. Explain briefly why the shortest path from one polygon vertex to any other in the scene must consist of straight-line segments joining some of the vertices of the polygons. Define a good state space now. How large is this state space?\n"
   ]
  },
  {
   "cell_type": "markdown",
   "metadata": {},
   "source": [
    "The shortest path from one point to aonther in a flat plane is known to be a straight line. Therefore the shortest path from the start vertex to the goal vertex would be a straight line as close a possible to the obstavle without actually colliding. The state space should include the vertices that make up the polygons, the start and goal vertices."
   ]
  },
  {
   "cell_type": "markdown",
   "metadata": {},
   "source": [
    "---\n",
    "1.3. Define the necessary functions to implement the search problem, including an function that takes a vertex as input and returns a set of vectors, each of which maps the current vertex to one of the vertices that can be reached in a straight line. (Do not forget the neighbors on the same polygon.) Use the straight-line distance for the heuristic function.\n"
   ]
  },
  {
   "cell_type": "markdown",
   "metadata": {},
   "source": [
    "- Actions Function: This function takes a vertex as input and outputs all vertices that can be reached in a straight line. This set includes neighboring vertices on the same polygon.\n",
    "- Straight Line Heuristic Function (hSLD): Uses the straight-line distance between the current vertex and the goal vertex as the heuristic.\n",
    "- Optimal Result Algorithm: An algorithm (such as A* or GBFS) that selects the best path based on the heuristic and cost so far.\n",
    "- Polygon Check Function: Determines whether a point is inside a polygon to avoid collisions.\n",
    "\n",
    "**Implementation in Python**\n",
    "\n",
    "The implementation involves defining the outside_poly, hSLD, ACTIONS, and the search algorithms A_STAR and GBFS.\n",
    "outside_poly Function\n",
    "\n",
    "Checks if a point is outside a given polygon. It's essential for determining valid movements that don't intersect obstacles.\n",
    "hSLD Function\n",
    "\n",
    "Calculates the heuristic based on the straight-line distance to the goal, facilitating the heuristic-guided search.\n",
    "ACTIONS Function\n",
    "\n",
    "Generates all possible actions from a given state, considering only movements that maintain a clear line of sight to the next vertex without crossing polygon boundaries.\n",
    "A* Search (A_STAR) and Greedy Best-First Search (GBFS)\n",
    "\n",
    "Both algorithms are implemented to find the shortest path from the start vertex to the goal vertex, utilizing the hSLD for the heuristic and ACTIONS to generate successors."
   ]
  },
  {
   "cell_type": "markdown",
   "metadata": {},
   "source": [
    "---\n",
    "1.4. Apply one or more of the algorithms in this chapter to solve a range of problems in the domain, and comment on their performance."
   ]
  },
  {
   "cell_type": "markdown",
   "metadata": {},
   "source": [
    "#### A_STAR:"
   ]
  },
  {
   "cell_type": "code",
   "execution_count": 24,
   "metadata": {},
   "outputs": [
    {
     "name": "stdout",
     "output_type": "stream",
     "text": [
      "Total Actions Used: 6\n",
      "Actions Taken:\n",
      "Step 1: Go to (1, 1)\n",
      "Step 2: Go to (2, 1)\n",
      "Step 3: Go to (3, 1)\n",
      "Step 4: Go to (4, 2)\n",
      "Step 5: Go to (5, 3)\n",
      "Step 6: Go to (6, 3)\n",
      "Processing Time: 0.0019073486328125 seconds\n"
     ]
    }
   ],
   "source": [
    "import math\n",
    "import heapq\n",
    "import time\n",
    "\n",
    "x_goal = 6\n",
    "y_goal = 3\n",
    "v_goal = (x_goal, y_goal)\n",
    "\n",
    "obstacles = [\n",
    "    [(1, 1), (3, 1), (3, 3), (1, 3)],                    \n",
    "    [(6, 6), (8, 6), (8, 8), (6, 8), (7, 9)],             \n",
    "    [(10, 10), (12, 10), (13, 12), (11, 13), (9, 12)],    \n",
    "]\n",
    "\n",
    "\n",
    "def outside_poly(point, polygon):\n",
    "    x, y = point\n",
    "    n = len(polygon)\n",
    "    inside = False\n",
    "    p1x, p1y = polygon[0]\n",
    "    for i in range(n + 1):\n",
    "        p2x, p2y = polygon[i % n]\n",
    "        if y > min(p1y, p2y):\n",
    "            if y <= max(p1y, p2y):\n",
    "                if x <= max(p1x, p2x):\n",
    "                    if p1y != p2y:\n",
    "                        xinters = (y - p1y) * (p2x - p1x) / (p2y - p1y) + p1x\n",
    "                    if p1x == p2x or x <= xinters:\n",
    "                        inside = not inside\n",
    "        p1x, p1y = p2x, p2y\n",
    "    return inside\n",
    "\n",
    "\n",
    "def hSLD(v, v_goal):\n",
    "    x, y = v\n",
    "    x_goal, y_goal = v_goal\n",
    "    return math.sqrt((x_goal - x)*(x_goal - x) + (y_goal - y)*(y_goal - y))\n",
    "\n",
    "# Define the ACTIONS function\n",
    "def ACTIONS(v):\n",
    "    x, y = v\n",
    "    \n",
    "    possible_actions = set()\n",
    "    for i in range(-1, 2):\n",
    "        for j in range(-1, 2):\n",
    "            if i != 0 or j != 0:  \n",
    "                new_v = (x + i, y + j)\n",
    "                if all(not outside_poly(new_v, obstacle) for obstacle in obstacles):\n",
    "                    possible_actions.add(new_v)\n",
    "    return possible_actions\n",
    "\n",
    "def A_STAR(v_start, v_goal):\n",
    "  \n",
    "    frontier = [(0, v_start, 0, [])]  \n",
    "    cost_so_far = {v_start: 0}\n",
    "    \n",
    "    start_time = time.time()  # Start time\n",
    "    \n",
    "    while frontier:\n",
    "        \n",
    "        current_cost, current_v, count, actions_taken = heapq.heappop(frontier)\n",
    "        \n",
    "        \n",
    "        if current_v == v_goal:\n",
    "            end_time = time.time()  \n",
    "            processing_time = end_time - start_time  \n",
    "            return count, actions_taken, processing_time\n",
    "        \n",
    "       \n",
    "        for next_v in ACTIONS(current_v):\n",
    "            \n",
    "            new_cost = cost_so_far[current_v] + 1 + hSLD(next_v, v_goal)\n",
    "            \n",
    "            \n",
    "            if next_v not in cost_so_far or new_cost < cost_so_far[next_v]:\n",
    "                \n",
    "                cost_so_far[next_v] = new_cost\n",
    "               \n",
    "                priority = new_cost\n",
    "                heapq.heappush(frontier, (priority, next_v, count + 1, actions_taken + [next_v]))\n",
    "                \n",
    "   \n",
    "    end_time = time.time()  \n",
    "    processing_time = end_time - start_time \n",
    "    return float('inf'), [], processing_time\n",
    "\n",
    "\n",
    "v_start = (0, 0)\n",
    "count, actions_taken, processing_time = A_STAR(v_start, v_goal)\n",
    "print(\"Total Actions Used:\", count)\n",
    "print(\"Actions Taken:\")\n",
    "for i, action in enumerate(actions_taken):\n",
    "    print(f\"Step {i+1}: Go to {action}\")\n",
    "print(\"Processing Time:\", processing_time, \"seconds\")"
   ]
  },
  {
   "cell_type": "markdown",
   "metadata": {},
   "source": [
    "How they get their result\n",
    "\n",
    "A_STAR:\n",
    "\n",
    "    Uses both the cumulative cost so far and a heuristic (straight-line distance) to estimate the cost from the current node to the target.\n",
    "    It ensures finding the shortest path by considering both the cost to reach a node and the estimated cost to reach the target from that node."
   ]
  },
  {
   "cell_type": "markdown",
   "metadata": {},
   "source": [
    "#### GBFS"
   ]
  },
  {
   "cell_type": "code",
   "execution_count": 17,
   "metadata": {},
   "outputs": [
    {
     "name": "stdout",
     "output_type": "stream",
     "text": [
      "Total Actions Used: 26\n",
      "Processing Time: 0.0002627372741699219 seconds\n"
     ]
    }
   ],
   "source": [
    "import heapq\n",
    "import math\n",
    "import time\n",
    "\n",
    "x_goal = 6\n",
    "y_goal = 3\n",
    "v_goal = (x_goal, y_goal)\n",
    "\n",
    "obstacles = [\n",
    "    [(1, 1), (3, 1), (3, 3), (1, 3)],                     \n",
    "    [(6, 6), (8, 6), (8, 8), (6, 8), (7, 9)],             \n",
    "    [(10, 10), (12, 10), (13, 12), (11, 13), (9, 12)],    \n",
    "]\n",
    "\n",
    "\n",
    "def outside_poly(point, polygon):\n",
    "    x, y = point\n",
    "    n = len(polygon)\n",
    "    inside = False\n",
    "    p1x, p1y = polygon[0]\n",
    "    for i in range(n + 1):\n",
    "        p2x, p2y = polygon[i % n]\n",
    "        if y > min(p1y, p2y):\n",
    "            if y <= max(p1y, p2y):\n",
    "                if x <= max(p1x, p2x):\n",
    "                    if p1y != p2y:\n",
    "                        xinters = (y - p1y) * (p2x - p1x) / (p2y - p1y) + p1x\n",
    "                    if p1x == p2x or x <= xinters:\n",
    "                        inside = not inside\n",
    "        p1x, p1y = p2x, p2y\n",
    "    return inside\n",
    "\n",
    "\n",
    "def hSLD(v, v_goal):\n",
    "    x, y = v\n",
    "    x_goal, y_goal = v_goal\n",
    "    return math.sqrt((x_goal - x)*(x_goal - x) + (y_goal - y)*(y_goal - y))\n",
    "\n",
    "\n",
    "def ACTIONS(v):\n",
    "    x, y = v\n",
    "    \n",
    "    possible_actions = set()\n",
    "    for i in range(-1, 2):\n",
    "        for j in range(-1, 2):\n",
    "            if i != 0 or j != 0:  \n",
    "                new_vertex = (x + i, y + j)\n",
    "                if all(not outside_poly(new_vertex, obstacle) for obstacle in obstacles):\n",
    "                    possible_actions.add(new_vertex)\n",
    "    return possible_actions\n",
    "\n",
    "\n",
    "def GBFS(v_start, v_goal):\n",
    "    \n",
    "    frontier = [(hSLD(v_start, v_goal), v_start)]  \n",
    "    \n",
    "    visited = set([v_start])\n",
    "    counter = 0  \n",
    "    \n",
    "    start_time = time.time()  \n",
    "    \n",
    "    while frontier:\n",
    "        \n",
    "        _, v_current = heapq.heappop(frontier)\n",
    "        \n",
    "       \n",
    "        if v_current == v_goal:\n",
    "            end_time = time.time()  \n",
    "            processing_time = end_time - start_time \n",
    "            return counter, processing_time\n",
    "        \n",
    "        for v_next in ACTIONS(v_current):\n",
    "            if v_next not in visited:\n",
    "                visited.add(v_next)\n",
    "                heapq.heappush(frontier, (hSLD(v_next, v_goal), v_next))\n",
    "                counter += 1  \n",
    "                \n",
    "    end_time = time.time() \n",
    "    processing_time = end_time - start_time \n",
    "    return float('inf'), processing_time\n",
    "\n",
    "v_start = (0, 0)\n",
    "action_count, processing_time = GBFS(v_start, v_goal)\n",
    "print(\"Total Actions Used:\", action_count)\n",
    "print(\"Processing Time:\", processing_time, \"seconds\")\n"
   ]
  },
  {
   "cell_type": "markdown",
   "metadata": {},
   "source": [
    "How they get their result\n",
    "\n",
    "    It only uses heuristics (straight line distance) to determine the next node to visit.\n",
    "    It does not guarantee the shortest path as it does not consider the cumulative cost to reach each node, which may lead to suboptimal solutions."
   ]
  },
  {
   "cell_type": "markdown",
   "metadata": {},
   "source": [
    "#### plot "
   ]
  },
  {
   "cell_type": "code",
   "execution_count": 32,
   "metadata": {},
   "outputs": [
    {
     "data": {
      "image/png": "[encoded data removed]",
      "text/plain": [
       "<Figure size 1000x800 with 2 Axes>"
      ]
     },
     "metadata": {},
     "output_type": "display_data"
    }
   ],
   "source": [
    "import matplotlib.pyplot as plt\n",
    "\n",
    "# Data for A* and GBFS algorithms\n",
    "actions_data = [6, 26]  # Total actions used for A* and GBFS\n",
    "time_data = [0.0019073486328125, 0.0002627372741699219]  # Processing time for A* and GBFS\n",
    "\n",
    "# Labels for the bars\n",
    "labels = ['A*', 'GBFS']\n",
    "\n",
    "# Create subplots for the comparison\n",
    "fig, axs = plt.subplots(2, figsize=(10, 8))\n",
    "\n",
    "# Plot for the total actions used comparison\n",
    "axs[0].bar(labels, actions_data, color=['blue', 'green'])\n",
    "axs[0].set_title('Total Actions Used Comparison')\n",
    "axs[0].set_ylabel('Total Actions Used')\n",
    "\n",
    "# Plot for the processing time comparison\n",
    "axs[1].bar(labels, time_data, color=['blue', 'green'])\n",
    "axs[1].set_title('Processing Time Comparison')\n",
    "axs[1].set_ylabel('Processing Time (seconds)')\n",
    "\n",
    "# Layout adjustment and plotting\n",
    "plt.tight_layout()\n",
    "plt.show()"
   ]
  },
  {
   "cell_type": "markdown",
   "metadata": {},
   "source": [
    "#### analysis of results\n",
    "\n",
    "    Total Actions Used Comparison:\n",
    "        The blue bar (A*) is significantly lower than the green bar (GBFS), indicating that A* used fewer actions to reach the goal.\n",
    "\n",
    "    Processing Time Comparison:\n",
    "        The blue bar (A*) is much higher than the green bar (GBFS), showing that A* took a longer time to process compared to GBFS.\n",
    "\n",
    "These results suggest that while A* was more efficient in terms of the path (fewer actions to reach the goal), it took longer to compute than GBFS. On the other hand, GBFS was quicker but required more actions, which might indicate a less efficient path.\n",
    "\n",
    "Considering these outcomes:\n",
    "\n",
    "    A* is typically more suitable when the shortest path is the priority, despite taking longer to compute.\n",
    "    GBFS may be preferable when a faster computation is necessary, and the shortest path is less critical."
   ]
  },
  {
   "cell_type": "markdown",
   "metadata": {},
   "source": [
    "---\n",
    "---\n",
    "2. Exercise 3.11 Search Exercises · AIMA Exercises (aimacode.github.io) ( 3.9 of the Russell, S. and Norvig, P. Artificial Intelligence: A Modern Approach. 3rd Edition)"
   ]
  },
  {
   "cell_type": "markdown",
   "metadata": {},
   "source": [
    "The missionaries and cannibals problem is usually stated as follows. \n",
    "Three missionaries and three cannibals are on one side of a river, along with a boat that can hold one or two people. Find a way to get everyone to the other side without ever leaving a group of missionaries in one place outnumbered by the cannibals in that place. This problem is famous in AI because it was the subject of the first paper that approached problem formulation from an analytical viewpoint (Amarel, 1968).\n"
   ]
  },
  {
   "cell_type": "markdown",
   "metadata": {},
   "source": [
    "a. Formulate the problem precisely, making only those distinctions necessary to ensure a valid solution. Draw a diagram of the complete state space.\n",
    "\n",
    "1. To formulate the missionaries and cannibals problem precisely, we define the following:\n",
    "\n",
    "    State: Represented by a tuple (M, C, B), where:\n",
    "        \n",
    "        * M is the number of missionaries on the initial side of the river.\n",
    "        * C is the number of cannibals on the initial side of the river.\n",
    "        * B indicates which side of the river the boat is on. We use (0) for the initial side and (1) for the other side.\n",
    "\n",
    "\n",
    "2. Identifying Valid States\n",
    "\n",
    "    A state is valid if and only if:\n",
    "\n",
    "        * The number of missionaries and cannibals on each side of the river is between 0 and 3.\n",
    "        * Missionaries are not in the minority on any side of the river, unless there are no missionaries on that side.\n",
    "\n",
    "\n",
    "3. Drawing the States:\n",
    "\n",
    "Next cell.\n",
    "\n",
    "\n",
    "4. Connecting States with Actions\n",
    "\n",
    "Possible actions include moving 1 or 2 missionaries, 1 or 2 cannibals, or 1 missionary and 1 cannibal from one side of the river to the other. For each state, consider all possible actions and draw an arrow to each valid resulting state. Make sure the action does not lead to an invalid state according to the problem's restrictions.\n",
    "\n",
    "\n",
    "5. Reviewing Repetitions\n",
    "\n",
    "Considering that: \n",
    "The initial state is (3, 3, 0) and the target state is (0, 0, 1).\n",
    "\n",
    "    Actions: Possible actions include crossing the river with 1 or 2 people in the boat, which can be missionaries, cannibals, or both. Actions can be represented as (m, c), indicating how many missionaries and cannibals cross.\n",
    "\n",
    "    Restrictions: In any state, the number of missionaries on one side must not be less than the number of cannibals on that side, unless there are no missionaries on that side. This must be met both on the initial side and at the destination.\n",
    "\n",
    "\n",
    "The optimal sequence of movements to solve the problem of the missionaries and cannibals, from the initial state to the target state, is as follows:\n",
    "\n",
    "| number      | start  | end     |Description|\n",
    "|-------------|--------|---------|-----------|\n",
    "| iteration   | M-C-B  | M-C-B   |-----------|\n",
    "| 0           | 3-3-0  | 0-0-0   |initial state|\n",
    "| 1           | 3-1-1  | 0-2-1   |→ Two cannibals cross the river|\n",
    "| 2           | 3-2-0  | 0-1-0   |← One cannibal returns|\n",
    "| 3           | 3-0-1  | 0-3-1   |→ Two cannibals cross the river|\n",
    "| 4           | 3-1-0  | 0-2-0   |← One cannibal returns|\n",
    "| 5           | 1-1-1  | 2-2-1   |→ Two missionaries cross the river|\n",
    "| 6           | 2-2-0  | 1-1-0   |← One missionary and one cannibal return|\n",
    "| 7           | 0-2-1  | 3-1-1   |→ Two missionaries cross the river|\n",
    "| 8           | 0-3-0  | 3-0-0   |← One cannibal returns|\n",
    "| 9           | 0-1-1  | 3-2-1   |→ Two cannibals cross the river|\n",
    "| 10          | 1-1-0  | 2-2-0   |← One missionary returns|\n",
    "| 11          | 0-0-1  | 3-3-1   |→ One missionary and one cannibal cross the river|\n",
    "\n",
    "Each step shows the state after the movement, represented by a tuple (M, C, B) where M is the number of missionaries on the initial side of the river, C is the number of cannibals on the initial side, and B indicates the side of the river where the boat is (0 for the initial side and 1 for the other side). The arrows indicate the direction of the boat's movement."
   ]
  },
  {
   "cell_type": "markdown",
   "metadata": {},
   "source": [
    "#### Nodes with Possible States"
   ]
  },
  {
   "cell_type": "code",
   "execution_count": 1,
   "metadata": {},
   "outputs": [],
   "source": [
    "import networkx as nx\n",
    "import matplotlib.pyplot as plt"
   ]
  },
  {
   "cell_type": "code",
   "execution_count": 2,
   "metadata": {},
   "outputs": [
    {
     "data": {
      "image/png": "[encoded data removed]",
      "text/plain": [
       "<Figure size 640x480 with 1 Axes>"
      ]
     },
     "metadata": {},
     "output_type": "display_data"
    }
   ],
   "source": [
    "# Create a directed graph\n",
    "G = nx.DiGraph()\n",
    "\n",
    "# Define a list of all possible states\n",
    "states = [(m, c, b) for m in range(4) for c in range(4) for b in range(2) if (m == 0 or m >= c) and (3-m == 0 or 3-m >= 3-c)]\n",
    "\n",
    "# Add nodes to the graph for each valid state\n",
    "for state in states:\n",
    "    G.add_node(state)\n",
    "\n",
    "# Define and add transitions between states as edges in the graph\n",
    "for state in states:\n",
    "    M, C, B = state\n",
    "    # Add your logic here to connect states with edges according to the problem's rules\n",
    "\n",
    "# Here you need to define the logic to add edges according to possible actions\n",
    "\n",
    "# Draw the graph\n",
    "pos = nx.spring_layout(G)  # Node positioning\n",
    "nx.draw(G, pos, with_labels=True, node_size=700, node_color='lightblue')\n",
    "plt.show()"
   ]
  },
  {
   "cell_type": "markdown",
   "metadata": {},
   "source": [
    "---\n",
    "b. Implement and solve the problem optimally using an appropriate search algorithm. Is it a good idea to check for repeated states?\n",
    "\n",
    "Implementation and Solution\n",
    "\n",
    "To solve this problem, we apply a search algorithm defined as BFS (Breadth-First Search), as it guarantees to find the optimal solution in terms of the smallest number of crossings. It's a good idea to check for repeated states to avoid cycles and improve efficiency.\n",
    "\n",
    "We implement it in Python, taking into account the verification of repeated states:"
   ]
  },
  {
   "cell_type": "code",
   "execution_count": 3,
   "metadata": {},
   "outputs": [],
   "source": [
    "import time\n",
    "from collections import deque  # Import the deque class from the collections module"
   ]
  },
  {
   "cell_type": "code",
   "execution_count": 10,
   "metadata": {},
   "outputs": [
    {
     "name": "stdout",
     "output_type": "stream",
     "text": [
      "Tiempo de ejecución: 0.0003199577331542969 segundos\n"
     ]
    }
   ],
   "source": [
    "\n",
    "start_time = time.time()\n",
    "\n",
    "\n",
    "def is_valid(M, C, B):\n",
    "    \"\"\"\n",
    "    Checks if the state (M, C, B) is valid according to the game rules\n",
    "    \"\"\"\n",
    "    # Check if the number of missionaries or cannibals is negative or greater than 3\n",
    "    if M < 0 or C < 0 or M > 3 or C > 3 or (B != 0 and B != 1):\n",
    "        return False\n",
    "\n",
    "    # Check if there are more cannibals than missionaries on either side\n",
    "    if (M < C and M > 0) or (3-M < 3-C and 3-M > 0):\n",
    "        return False\n",
    "\n",
    "    # If all conditions are met, the state is valid\n",
    "    return True\n",
    "\n",
    "def successors(state):\n",
    "    \"\"\"\n",
    "    Generates a list of all valid successor states from a given state\n",
    "    \"\"\"\n",
    "    M, C, B = state  # Unpack the state into M, C, and B variables\n",
    "\n",
    "    # Define the movement options based on the boat's position\n",
    "    if B == 0:  # Boat on the initial side\n",
    "        options = [(-1, 0, 1), (-2, 0, 1), (0, -1, 1), (0, -2, 1), (-1, -1, 1)]\n",
    "    else:  # Boat on the other side\n",
    "        options = [(1, 0, 0), (2, 0, 0), (0, 1, 0), (0, 2, 0), (1, 1, 0)]\n",
    "\n",
    "    # Generate a list comprehension with valid successor states\n",
    "    return [(M+m, C+c, b) for m, c, b in options if is_valid(M+m, C+c, b)]\n",
    "\n",
    "def bfs():\n",
    "    \"\"\"\n",
    "    The BFS (Breadth-First Search) algorithm is implemented to find a solution to the problem.\n",
    "    \"\"\"\n",
    "    start = (3, 3, 0)  # Initial state: 3 missionaries, 3 cannibals, boat on initial side\n",
    "    goal = (0, 0, 1)  # Goal state: 0 missionaries, 0 cannibals, boat on other side\n",
    "\n",
    "    queue = deque([start])  # Initialize the queue with the start state\n",
    "    visited = set([start])  # Set to keep track of visited states\n",
    "    path = {start: None}  # Dictionary to store the parents of each state\n",
    "\n",
    "    while queue:\n",
    "        state = queue.popleft()  # Remove the next state from the queue\n",
    "\n",
    "        if state == goal:\n",
    "            # If the goal state is reached, reconstruct the solution path\n",
    "            solution = []\n",
    "            while state:\n",
    "                solution.append(state)\n",
    "                state = path[state]\n",
    "            return solution[::-1]  # Return the reversed solution\n",
    "\n",
    "        # Generate the successors of the current state\n",
    "        for neighbor in successors(state):\n",
    "            if neighbor not in visited:\n",
    "                visited.add(neighbor)  # Mark the successor as visited\n",
    "                path[neighbor] = state  # Record the parent of the successor\n",
    "                queue.append(neighbor)  # Add the successor to the queue\n",
    "\n",
    "    # If no solution is found, return an empty list\n",
    "    return []\n",
    "\n",
    "# Run the BFS algorithm and get the solution\n",
    "solution = bfs()\n",
    "solution\n",
    "\n",
    "end_time = time.time()\n",
    "print(f\"Tiempo de ejecución: {end_time - start_time} segundos\")"
   ]
  },
  {
   "cell_type": "code",
   "execution_count": 11,
   "metadata": {},
   "outputs": [
    {
     "data": {
      "text/plain": [
       "[(3, 3, 0),\n",
       " (3, 1, 1),\n",
       " (3, 2, 0),\n",
       " (3, 0, 1),\n",
       " (3, 1, 0),\n",
       " (1, 1, 1),\n",
       " (2, 2, 0),\n",
       " (0, 2, 1),\n",
       " (0, 3, 0),\n",
       " (0, 1, 1),\n",
       " (1, 1, 0),\n",
       " (0, 0, 1)]"
      ]
     },
     "execution_count": 11,
     "metadata": {},
     "output_type": "execute_result"
    }
   ],
   "source": [
    "# Print BFS solution\n",
    "\n",
    "solution"
   ]
  },
  {
   "cell_type": "markdown",
   "metadata": {},
   "source": [
    "# Performance Measurement across Multiple Iterations\n",
    "\n",
    "Execution Time 1: 0.0008144378662109375 seconds\n",
    "\n",
    "Execution Time 2: 0.0003533363342285156 seconds\n",
    "\n",
    "Execution Time 3: 0.00036454200744628906 seconds\n",
    "\n",
    "Execution Time 4: 0.0009312629699707031 seconds\n",
    "\n",
    "Execution Time 5: 0.0003199577331542969 seconds"
   ]
  },
  {
   "cell_type": "code",
   "execution_count": 2,
   "metadata": {},
   "outputs": [],
   "source": [
    "#plot\n",
    "import matplotlib.pyplot as plt"
   ]
  },
  {
   "cell_type": "code",
   "execution_count": 3,
   "metadata": {},
   "outputs": [
    {
     "data": {
      "image/png": "[encoded data removed]",
      "text/plain": [
       "<Figure size 1000x600 with 1 Axes>"
      ]
     },
     "metadata": {},
     "output_type": "display_data"
    }
   ],
   "source": [
    "# Execution times\n",
    "times = [\n",
    "    0.0008144378662109375,\n",
    "    0.0003533363342285156,\n",
    "    0.00036454200744628906,\n",
    "    0.0009312629699707031,\n",
    "    0.0003199577331542969\n",
    "]\n",
    "\n",
    "# Identifiers for each execution time\n",
    "identifiers = ['Execution 1', 'Execution 2', 'Execution 3', 'Execution 4', 'Execution 5']\n",
    "\n",
    "# Create the plot\n",
    "plt.figure(figsize=(10, 6))\n",
    "plt.bar(identifiers, times, color='skyblue')\n",
    "\n",
    "plt.title('Execution Times for Different Runs')\n",
    "plt.xlabel('Execution')\n",
    "plt.ylabel('Time (seconds)')\n",
    "plt.xticks(rotation=45)\n",
    "plt.tight_layout()\n",
    "\n",
    "# Show the plot\n",
    "plt.show()"
   ]
  },
  {
   "cell_type": "markdown",
   "metadata": {},
   "source": [
    "Is it a good idea to check for repeated states?\n",
    "\n",
    "Yes, it's a good idea to check for repeated states when implementing and solving a problem using a search algorithm. Checking for repeated states helps in several ways:\n",
    "\n",
    "    Reduces Computational Effort: By ensuring that the algorithm does not explore the same state more than once, you reduce unnecessary computational work. This is particularly important in large state spaces where re-exploring states can significantly increase the time to find a solution.\n",
    "\n",
    "    Prevents Infinite Loops: In some problems, especially those involving graphs or complex state transitions, not checking for repeated states can lead to infinite loops. This occurs when the algorithm keeps cycling between a set of states without making progress towards the goal.\n",
    "\n",
    "    Improves Efficiency: Eliminating repeated states from the search process makes the search algorithm more efficient by focusing only on new, unexplored states. This can lead to a faster discovery of the solution.\n",
    "\n",
    "    Optimizes Memory Usage: Keeping track of visited states and avoiding their re-exploration helps in managing memory use more effectively. This is crucial for problems with a vast number of potential states, where memory resources can become a limiting factor.\n",
    "\n"
   ]
  },
  {
   "cell_type": "markdown",
   "metadata": {},
   "source": [
    "---\n",
    "c. Why do you think people have a hard time solving this puzzle, given that the state space is so simple?"
   ]
  },
  {
   "cell_type": "markdown",
   "metadata": {},
   "source": [
    "Despite the problem seeming simple, there are many difficulties with this exercise due to various reasons:\n",
    "\n",
    "* Counter-intuitive Restrictions: The condition that missionaries cannot be outnumbered may not be immediately obvious or easy to mentally maintain while considering movements.\n",
    "\n",
    "* Exploration of the State Space: Without a clear strategy, it's easy to get lost in the state space or follow paths that do not lead to the goal, especially if you try to solve the problem mentally without drawing the state space.\n",
    "\n",
    "* Memory and Attention Capacity: Keeping a mental record of the data, states on each side, and possible paths can be challenging, which took us several hours to resolve.\n",
    "\n",
    "The problem requires systematic exploration of the state space and the maintenance of specific constraints, which can make analysis and solutions challenging."
   ]
  },
  {
   "cell_type": "markdown",
   "metadata": {},
   "source": [
    "---\n",
    "\n",
    "#### How BFS Achieves Its Goal\n",
    "\n",
    "\n",
    "Reaching the optimal number of iterations in the missionaries and cannibals problem using the Breadth-First Search (BFS) algorithm involves systematically exploring the state space until finding the shortest possible solution without breaking the problem's rules. Here's how the BFS algorithm achieves this in 12 iterations:\n",
    "\n",
    "1. Level-by-Level Exploration: BFS explores the state space level by level, meaning it first examines all states one move away from the initial state, then all states two moves away, and so on. This ensures that if a solution exists, BFS will find the shortest possible solution, as it stops searching as soon as it reaches the goal state.\n",
    "\n",
    "2. Generation of Successors: For each state, the algorithm generates all possible \"successors,\" i.e., states that are reachable from the current state through a single allowed action (crossing one or two missionaries/cannibals). In doing so, BFS constructs a search tree in which each node represents a state and each edge represents an action.\n",
    "\n",
    "3. Rule Verification: At each step, the algorithm checks that the generated states comply with the problem's rules (never leaving more cannibals than missionaries on one side of the river, unless there are no missionaries on that side). This ensures that only valid paths to the solution are explored.\n",
    "\n",
    "4. Checking for Repeated States: To improve its efficiency, BFS checks if a generated state has already been visited or is in the queue to be explored. If so, the state is discarded to avoid loops or redundant explorations. This is crucial for achieving the solution optimally.\n",
    "\n",
    "5. Reaching the Goal State: The process continues until the goal state is found. Since BFS explores states in order of their distance from the initial state, it ensures that the first time the goal state is reached is through the shortest possible path. In the case of the missionaries and cannibals problem, this happens after 12 iterations, meaning BFS has found the shortest sequence of actions that safely take all missionaries and cannibals to the other side of the river.\n",
    "\n",
    "\n",
    "The effectiveness of BFS for this problem lies in its exhaustive and methodical nature in exploring the state space, ensuring that the most efficient solution is found without overlooking any possibilities. The key to success in 12 iterations is the combination of systematically generating all possible successors, verifying the rules to ensure that the movements are valid, and avoiding the re-exploration of states, which guides the algorithm directly to the optimal solution."
   ]
  },
  {
   "cell_type": "markdown",
   "metadata": {},
   "source": [
    "---\n",
    "\n",
    "Conclusions\n",
    "\n",
    "The A-star search algorithim relies on knowing the cost of the nodes it has used, and the estimated cost to get to the goal. The best first search algorithim simply takes into account the next best option. For this reason the best first search algorithim has proven to be faster in time, but since it only evaluated the nest best choice, suffer greatly in action costs. This search algorithim will get you to the goal, albeit in a less optmized route. Depending on what your goals are, you must consider whether the final route must be optimized or if the rooute you need just needs to reach the goal.\n",
    "\n",
    "By defining a precise state space, employing effective heuristics, and utilizing advanced search algorithms, the problem of navigating a robot through a plane with obstacles can be solved efficiently. The choice between A* and GBFS depends on the specific requirements for optimality versus computational resources and execution time.\n",
    "\n",
    "The use of the Breadth-First Search algorithm has proven to be an effective strategy for finding the optimal solution to the problem. By systematically exploring all levels of the search tree before moving to the next level, BFS ensures that the first solution found is one of the most efficient in terms of steps or crossings required.\n",
    "\n",
    "Checking for repeated states is a good practice in search algorithms as it enhances efficiency, prevents potential issues like infinite loops, and optimizes computational and memory resources.\n",
    "\n",
    "The success of BFS in this specific problem illustrates its potential applicability to other similar problems. However, it is important to assess the unique characteristics of each problem, such as the size of the state space and specific constraints, to choose the most appropriate search algorithm.\n",
    "\n",
    "The practical implementation of the algorithm requires attention to detail, such as efficient state representation, generation of valid successors, and reconstruction of the path to the solution. These challenges highlight the importance of programming skills and algorithmic thinking in artificial intelligence.\n",
    "\n",
    "The project has been an opportunity to delve into problem-solving techniques using search algorithms. It has demonstrated the importance of careful problem formulation, selection of a suitable algorithm, and efficient management of computational resources."
   ]
  },
  {
   "cell_type": "markdown",
   "metadata": {},
   "source": [
    "---\n",
    "\n",
    "\n",
    "<center> <h3>References</h3> </center>\n",
    "\n",
    "\n",
    "[1] S. J. Russell and P. Norvig, Artificial Intelligence: A Modern Approach. Upper Saddle River: Prentice-Hall, 2010. \n",
    "\n",
    "[2] P. Norvig, “Aimacode,” GitHub, https://github.com/aimacode (accessed Mar. 8, 2024). \n",
    "\n",
    "[3] \"Visualgo - Graph Traversal: Depth-First Search & Breadth-First Search,\" Visualgo.net. [online]: https://visualgo.net/en/dfsbfs. (accessed Mar. 30, 2024).\n",
    "\n",
    "[4] Python Software Foundation, \"collections — Container datatypes,\" in Python 3.12.2 Documentation. [online]: https://docs.python.org/3/library/collections.html#collections.deque. (accessed Mar. 30, 2024). \n",
    "\n",
    "[5] “A* search,” Brilliant Math & Science Wiki, https://brilliant.org/wiki/a-star-search/#:~:text=References-,The%20A*%20Algorithm,a%20path%20using%20that%20node. (accessed Apr. 1, 2024).\n",
    "\n",
    "[6] K. Ru, Introduction to Artificial Intelligence, https://www.cs.nott.ac.uk/~pszrq/files/5IAIheuristic.pdf (accessed Apr. 1, 2024).\n",
    "\n"
   ]
  }
 ],
 "metadata": {
  "kernelspec": {
   "display_name": "scikit-hep",
   "language": "python",
   "name": "python3"
  },
  "language_info": {
   "codemirror_mode": {
    "name": "ipython",
    "version": 3
   },
   "file_extension": ".py",
   "mimetype": "text/x-python",
   "name": "python",
   "nbconvert_exporter": "python",
   "pygments_lexer": "ipython3",
   "version": "3.12.2"
  }
 },
 "nbformat": 4,
 "nbformat_minor": 2
}
